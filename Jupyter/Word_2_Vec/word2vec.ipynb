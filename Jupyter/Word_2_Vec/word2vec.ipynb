{
 "cells": [
  {
   "cell_type": "markdown",
   "id": "bfe5f8cb",
   "metadata": {},
   "source": [
    "# Word2Vec\n",
    "\n",
    "#### Word2Vec bir kelime vektoru olusturma yontemidir.\n",
    "#### Bu yontem, verilen metindeki kelimelere benzer anlamdaki kelimeleri ayni vektor boyutlarina sahip olarak ozetler.\n",
    "#### Bu vektorler kelimelerin anlamini veya ozelliklerini ifade etmek icin kullanilabilir.\n",
    "## 2 Farkli yontem kullanilabilir;\n",
    "### 1. CBOW(Continuous Bag of Words): Metindeki kelimelerin etrafindaki kelimelere dayanarak kelime vektorlerini ogrenir.\n",
    "### 2. Skip-Gram: Verilen bir kelime icin, bu kelime ile birlikte kullanilan diger kelimeleri tahmin etmeyi amaclar."
   ]
  },
  {
   "cell_type": "code",
   "execution_count": 1,
   "id": "6cf2833b",
   "metadata": {},
   "outputs": [
    {
     "name": "stderr",
     "output_type": "stream",
     "text": [
      "C:\\python39\\lib\\site-packages\\requests\\__init__.py:102: RequestsDependencyWarning: urllib3 (1.26.7) or chardet (5.0.0)/charset_normalizer (2.0.7) doesn't match a supported version!\n",
      "  warnings.warn(\"urllib3 ({}) or chardet ({})/charset_normalizer ({}) doesn't match a supported \"\n"
     ]
    }
   ],
   "source": [
    "import numpy as np\n",
    "from gensim.models import Word2Vec\n",
    "from sklearn.manifold import TSNE # Vektorleri Gorsellestirecegimiz kutuphane\n",
    "import matplotlib.pyplot as plt"
   ]
  },
  {
   "cell_type": "code",
   "execution_count": 2,
   "id": "50de635b",
   "metadata": {},
   "outputs": [],
   "source": [
    "f = open(file='hurriyet.txt', mode='r', encoding='utf-8')\n",
    "text = f.read()"
   ]
  },
  {
   "cell_type": "markdown",
   "id": "d12fc78b",
   "metadata": {},
   "source": [
    "### Veri setimizde noktalama isaretleri ve her harf kucuk oldugundan nltk ile tokenization yapmak yerine split() ile tokenize yapmamiz yeterli olacaktir."
   ]
  },
  {
   "cell_type": "code",
   "execution_count": 3,
   "id": "c89d3f1c",
   "metadata": {},
   "outputs": [
    {
     "data": {
      "text/plain": [
       "['iran devlet televizyonu ülkedeki eyaletin sinde yapılan reformcuları protesto amaçlı yürüyüşlere milyonlarca kişinin katıldığını bildirdi ',\n",
       " 'gösterilerde fitnecilere ölüm münafıklara ölüm abd ye ölüm ingiltere ye ölüm sloganları atıldı ',\n",
       " 'dini lider ali hamaney ve cumhurbaşkanı mahmud ahmedinejad ı destekleyen iranlılar son olaylarda yeğeni öldürülen mir hüseyin musevi başta olmak üzere muhalefet liderlerini kınadılar ',\n",
       " 'musevi ye ölüm ve idam idam sloganları duyuldu ',\n",
       " 'muhalefet liderleri kaçtı mı aşure günü yaşanan çatışmalarda devlet kaynaklarına göre u terörist olmak üzere kişi ölmüştü ',\n",
       " 'den fazla kişinin yaralandığı olaylar sırasında en az kişi tutuklanmıştı ',\n",
       " 'öte yandan iran haber ajansı irna muhalif liderler mir hüseyin musevi ve mehdi kerrubi nin başkentten kaçarak ülkenin kuzeyine geçtiğini ileri sürdü ancak muhalefet iddiayı yalanladı ',\n",
       " 'hamaney in bir dönem korumalığını yapan ve şu anda fransa da saklandığı söylenen bir kişinin muhalefete verdiği bilgilere göre münzevi yaşamı na rağmen dini liderin havyara karşı korkunç bir iştahı var ',\n",
       " 'baston ve at meraklısı hamaney aynı zamanda değerli mücevherlerle bezenmiş bastonların ve cins atların koleksiyonunu yapıyor ',\n",
       " 'hamaney in antika bastonlarının sayısı ']"
      ]
     },
     "execution_count": 3,
     "metadata": {},
     "output_type": "execute_result"
    }
   ],
   "source": [
    "t_list = text.split('\\n')\n",
    "t_list[:10:1]"
   ]
  },
  {
   "cell_type": "code",
   "execution_count": 4,
   "id": "c09266d9",
   "metadata": {},
   "outputs": [
    {
     "data": {
      "text/plain": [
       "[['iran',\n",
       "  'devlet',\n",
       "  'televizyonu',\n",
       "  'ülkedeki',\n",
       "  'eyaletin',\n",
       "  'sinde',\n",
       "  'yapılan',\n",
       "  'reformcuları',\n",
       "  'protesto',\n",
       "  'amaçlı',\n",
       "  'yürüyüşlere',\n",
       "  'milyonlarca',\n",
       "  'kişinin',\n",
       "  'katıldığını',\n",
       "  'bildirdi'],\n",
       " ['gösterilerde',\n",
       "  'fitnecilere',\n",
       "  'ölüm',\n",
       "  'münafıklara',\n",
       "  'ölüm',\n",
       "  'abd',\n",
       "  'ye',\n",
       "  'ölüm',\n",
       "  'ingiltere',\n",
       "  'ye',\n",
       "  'ölüm',\n",
       "  'sloganları',\n",
       "  'atıldı'],\n",
       " ['dini',\n",
       "  'lider',\n",
       "  'ali',\n",
       "  'hamaney',\n",
       "  've',\n",
       "  'cumhurbaşkanı',\n",
       "  'mahmud',\n",
       "  'ahmedinejad',\n",
       "  'ı',\n",
       "  'destekleyen',\n",
       "  'iranlılar',\n",
       "  'son',\n",
       "  'olaylarda',\n",
       "  'yeğeni',\n",
       "  'öldürülen',\n",
       "  'mir',\n",
       "  'hüseyin',\n",
       "  'musevi',\n",
       "  'başta',\n",
       "  'olmak',\n",
       "  'üzere',\n",
       "  'muhalefet',\n",
       "  'liderlerini',\n",
       "  'kınadılar'],\n",
       " ['musevi', 'ye', 'ölüm', 've', 'idam', 'idam', 'sloganları', 'duyuldu'],\n",
       " ['muhalefet',\n",
       "  'liderleri',\n",
       "  'kaçtı',\n",
       "  'mı',\n",
       "  'aşure',\n",
       "  'günü',\n",
       "  'yaşanan',\n",
       "  'çatışmalarda',\n",
       "  'devlet',\n",
       "  'kaynaklarına',\n",
       "  'göre',\n",
       "  'u',\n",
       "  'terörist',\n",
       "  'olmak',\n",
       "  'üzere',\n",
       "  'kişi',\n",
       "  'ölmüştü'],\n",
       " ['den',\n",
       "  'fazla',\n",
       "  'kişinin',\n",
       "  'yaralandığı',\n",
       "  'olaylar',\n",
       "  'sırasında',\n",
       "  'en',\n",
       "  'az',\n",
       "  'kişi',\n",
       "  'tutuklanmıştı'],\n",
       " ['öte',\n",
       "  'yandan',\n",
       "  'iran',\n",
       "  'haber',\n",
       "  'ajansı',\n",
       "  'irna',\n",
       "  'muhalif',\n",
       "  'liderler',\n",
       "  'mir',\n",
       "  'hüseyin',\n",
       "  'musevi',\n",
       "  've',\n",
       "  'mehdi',\n",
       "  'kerrubi',\n",
       "  'nin',\n",
       "  'başkentten',\n",
       "  'kaçarak',\n",
       "  'ülkenin',\n",
       "  'kuzeyine',\n",
       "  'geçtiğini',\n",
       "  'ileri',\n",
       "  'sürdü',\n",
       "  'ancak',\n",
       "  'muhalefet',\n",
       "  'iddiayı',\n",
       "  'yalanladı'],\n",
       " ['hamaney',\n",
       "  'in',\n",
       "  'bir',\n",
       "  'dönem',\n",
       "  'korumalığını',\n",
       "  'yapan',\n",
       "  've',\n",
       "  'şu',\n",
       "  'anda',\n",
       "  'fransa',\n",
       "  'da',\n",
       "  'saklandığı',\n",
       "  'söylenen',\n",
       "  'bir',\n",
       "  'kişinin',\n",
       "  'muhalefete',\n",
       "  'verdiği',\n",
       "  'bilgilere',\n",
       "  'göre',\n",
       "  'münzevi',\n",
       "  'yaşamı',\n",
       "  'na',\n",
       "  'rağmen',\n",
       "  'dini',\n",
       "  'liderin',\n",
       "  'havyara',\n",
       "  'karşı',\n",
       "  'korkunç',\n",
       "  'bir',\n",
       "  'iştahı',\n",
       "  'var'],\n",
       " ['baston',\n",
       "  've',\n",
       "  'at',\n",
       "  'meraklısı',\n",
       "  'hamaney',\n",
       "  'aynı',\n",
       "  'zamanda',\n",
       "  'değerli',\n",
       "  'mücevherlerle',\n",
       "  'bezenmiş',\n",
       "  'bastonların',\n",
       "  've',\n",
       "  'cins',\n",
       "  'atların',\n",
       "  'koleksiyonunu',\n",
       "  'yapıyor'],\n",
       " ['hamaney', 'in', 'antika', 'bastonlarının', 'sayısı']]"
      ]
     },
     "execution_count": 4,
     "metadata": {},
     "output_type": "execute_result"
    }
   ],
   "source": [
    "corpus = [stem.split() for stem in t_list]\n",
    "corpus[:10]"
   ]
  },
  {
   "cell_type": "code",
   "execution_count": 5,
   "id": "ed0baad1",
   "metadata": {},
   "outputs": [],
   "source": [
    "# corpus=egitimin yapilacagi corpus, vector_size=kelime vektorlerinin uzunlugu,\n",
    "# window=sagdaki ve soldaki bakilacak kelime sayisi(window size), min_count=corpusda minimum gecen kelime sayisi,\n",
    "# sg=skip-gram kullanilacagini belirtiyoruz(default=cbow).\n",
    "model = Word2Vec(sentences=corpus, vector_size=100, window=5, min_count=5, sg=1)"
   ]
  },
  {
   "cell_type": "code",
   "execution_count": 6,
   "id": "6dcabc46",
   "metadata": {
    "scrolled": true
   },
   "outputs": [
    {
     "data": {
      "text/plain": [
       "array([-0.3300288 , -0.29605797, -0.27336833,  0.04690244,  0.6325581 ,\n",
       "        0.06747679,  0.06062918,  0.70658076, -0.24196814, -0.39346132,\n",
       "        0.05708873, -0.46471047, -0.00098408,  0.49130744,  0.09960853,\n",
       "        0.18406852,  0.47481543, -0.23511864, -0.19233431, -0.44159862,\n",
       "       -0.01133917,  0.5759385 ,  0.5514946 , -0.5932391 , -0.22022064,\n",
       "        0.11101308, -0.3971539 ,  0.13123919, -0.63671005,  0.42280102,\n",
       "       -0.13875362,  0.12705047, -0.29681554, -0.01672035, -0.18150906,\n",
       "       -0.14364332, -0.35075456, -0.18218896,  0.10656198, -0.6407243 ,\n",
       "        0.48261356,  0.33953765,  0.25154445,  0.14746363,  0.61423177,\n",
       "        0.09610147, -0.3260003 , -0.07339932,  0.22738516, -0.18034555,\n",
       "        0.01844579,  0.03207954, -0.00938255,  0.07548686,  0.01474749,\n",
       "       -0.047359  , -0.1974686 ,  0.09337499, -0.19860747, -0.45077175,\n",
       "        0.21630074,  0.14809212, -0.22258495,  0.22938868, -0.13602225,\n",
       "       -0.10212576,  0.10269693,  0.4222452 , -0.56502604, -0.41587737,\n",
       "       -0.13232854, -0.03440038,  0.4509273 , -0.78269213,  0.58990943,\n",
       "       -0.08151165,  0.1173069 , -0.54501396, -0.12291862,  0.02400947,\n",
       "        0.14600164, -0.5982996 ,  0.19123214,  0.41709185,  0.364423  ,\n",
       "       -0.13681756,  0.27809602,  0.29294354,  0.6029917 ,  0.62838703,\n",
       "        0.68910974, -0.41427281,  0.04567844, -0.05125237,  0.53375846,\n",
       "        0.06925044, -0.18855673, -0.04916584, -0.16180757, -0.04381102],\n",
       "      dtype=float32)"
      ]
     },
     "execution_count": 6,
     "metadata": {},
     "output_type": "execute_result"
    }
   ],
   "source": [
    "model.wv['ankara'] #wv=wordvector kisaltilmisi / ankaranin kelime vektorune bakalim"
   ]
  },
  {
   "cell_type": "markdown",
   "id": "924bc5c9",
   "metadata": {},
   "source": [
    "### Birbirlerine yakin kelimelerin vektorlerinide birbirlerine yakin olmasini bekleriz. Bunu test edelim;"
   ]
  },
  {
   "cell_type": "markdown",
   "id": "7976f478",
   "metadata": {},
   "source": [
    "#### Hollanda kelimesine yakin kelimelere bakalim. Eger hata alirsak yazdigimiz kelime, kelime haznesinde bulunmamaktadir! "
   ]
  },
  {
   "cell_type": "code",
   "execution_count": 7,
   "id": "1d6b0409",
   "metadata": {},
   "outputs": [
    {
     "data": {
      "text/plain": [
       "[('danimarka', 0.8211957812309265),\n",
       " ('avusturya', 0.8146202564239502),\n",
       " ('belçika', 0.7859250903129578),\n",
       " ('kanada', 0.7666620016098022),\n",
       " ('almanya', 0.763215959072113),\n",
       " ('ispanya', 0.7456960678100586),\n",
       " ('avustralya', 0.7399278879165649),\n",
       " ('fransa', 0.7210065126419067),\n",
       " ('finlandiya', 0.7202153205871582),\n",
       " ('lüksemburg', 0.693677544593811)]"
      ]
     },
     "execution_count": 7,
     "metadata": {},
     "output_type": "execute_result"
    }
   ],
   "source": [
    "model.wv.most_similar('hollanda')"
   ]
  },
  {
   "cell_type": "markdown",
   "id": "2fe683bf",
   "metadata": {},
   "source": [
    "## Modelimizi daha sonra kullanmak icin kaydedelim."
   ]
  },
  {
   "cell_type": "code",
   "execution_count": 18,
   "id": "be071ff5",
   "metadata": {},
   "outputs": [],
   "source": [
    "model.save('word2vec.model')"
   ]
  },
  {
   "cell_type": "markdown",
   "id": "7db8744a",
   "metadata": {},
   "source": [
    "## Modelimizi kullanmak icin yukleyelim."
   ]
  },
  {
   "cell_type": "code",
   "execution_count": 3,
   "id": "cb140987",
   "metadata": {},
   "outputs": [],
   "source": [
    "model = Word2Vec.load('word2vec.model')"
   ]
  },
  {
   "cell_type": "code",
   "execution_count": 7,
   "id": "ae0bb8bb",
   "metadata": {},
   "outputs": [
    {
     "data": {
      "text/plain": [
       "[('amerikan', 0.7636352777481079),\n",
       " ('stavridis', 0.6700119376182556),\n",
       " ('kerry', 0.6461517810821533),\n",
       " ('brennan', 0.6408788561820984),\n",
       " ('dunford', 0.6401093602180481),\n",
       " ('wp', 0.6363139748573303),\n",
       " ('washington', 0.6361366510391235),\n",
       " ('blinken', 0.6338413953781128),\n",
       " ('obama', 0.631594181060791),\n",
       " ('votel', 0.6302452683448792)]"
      ]
     },
     "execution_count": 7,
     "metadata": {},
     "output_type": "execute_result"
    }
   ],
   "source": [
    "model.wv.most_similar('abd')"
   ]
  },
  {
   "cell_type": "markdown",
   "id": "70616d5c",
   "metadata": {},
   "source": [
    "## TSNE ile bir kelimeye yakin olan diger kelimeleri gorelim;"
   ]
  },
  {
   "cell_type": "code",
   "execution_count": 24,
   "id": "27e2d9c3",
   "metadata": {},
   "outputs": [],
   "source": [
    "def closetwords_tsneplot(model, word): # model ve kelime girdi alicak\n",
    "    word_vectors = np.empty((0, 100)) # bos numpy array/vector_size 100 old. 100 verdik/func. aldigi kelimenin vektorune yakin olan kelimeleri atayalim\n",
    "    word_labels = [word] # kelimelerin saklanacagi list\n",
    "    \n",
    "    close_words = model.wv.most_similar(word) # func'a gelen kelimelere yakin olan kelimeleri alalim\n",
    "    \n",
    "    #TSNE ile gostermek istedigimiz kelimenin vektorune ulasmamiz gerekli.\n",
    "    word_vectors = np.append(arr=word_vectors, values=np.array([model.wv[word]]), axis=0)\n",
    "    \n",
    "    for w, _ in close_words:\n",
    "        word_labels.append(w)\n",
    "        word_vectors = np.append(arr=word_vectors, values=np.array([model.wv[word]]), axis=0)\n",
    "    \n",
    "    tsne = TSNE(random_state=0)\n",
    "    Y = tsne.fit_transform(word_vectors) # kordinatlar\n",
    "    \n",
    "    x_coords = Y[:, 0] # x kordinati\n",
    "    y_coords = Y[:, 1] # y kordinati\n",
    "    \n",
    "    plt.scatter(x_coords, y_coords)\n",
    "    \n",
    "    for label, x, y in zip(word_labels, x_coords, y_coords):\n",
    "        plt.annotate(label, xy=(x, y), xytext=(4, -2), textcoords='offset points') # grafik uzerine yazi yazdirma\n",
    "    \n",
    "    plt.show()"
   ]
  },
  {
   "cell_type": "code",
   "execution_count": 25,
   "id": "79d7f4c0",
   "metadata": {},
   "outputs": [
    {
     "name": "stderr",
     "output_type": "stream",
     "text": [
      "C:\\python39\\lib\\site-packages\\sklearn\\manifold\\_t_sne.py:780: FutureWarning: The default initialization in TSNE will change from 'random' to 'pca' in 1.2.\n",
      "  warnings.warn(\n",
      "C:\\python39\\lib\\site-packages\\sklearn\\manifold\\_t_sne.py:790: FutureWarning: The default learning rate in TSNE will change from 200.0 to 'auto' in 1.2.\n",
      "  warnings.warn(\n"
     ]
    },
    {
     "data": {
      "image/png": "[encoded data removed]",
      "text/plain": [
       "<Figure size 432x288 with 1 Axes>"
      ]
     },
     "metadata": {
      "needs_background": "light"
     },
     "output_type": "display_data"
    }
   ],
   "source": [
    "closetwords_tsneplot(model, 'berlin')"
   ]
  },
  {
   "cell_type": "code",
   "execution_count": null,
   "id": "24dbbd6c",
   "metadata": {},
   "outputs": [],
   "source": []
  }
 ],
 "metadata": {
  "kernelspec": {
   "display_name": "Python 3 (ipykernel)",
   "language": "python",
   "name": "python3"
  },
  "language_info": {
   "codemirror_mode": {
    "name": "ipython",
    "version": 3
   },
   "file_extension": ".py",
   "mimetype": "text/x-python",
   "name": "python",
   "nbconvert_exporter": "python",
   "pygments_lexer": "ipython3",
   "version": "3.9.5"
  }
 },
 "nbformat": 4,
 "nbformat_minor": 5
}
