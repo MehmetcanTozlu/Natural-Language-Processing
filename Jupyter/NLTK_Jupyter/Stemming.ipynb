{
 "cells": [
  {
   "cell_type": "markdown",
   "id": "9ac21cb6",
   "metadata": {},
   "source": [
    "# Stemming\n",
    "\n",
    "#### Stemming; bir onisleme teknigidir. Kelimenin kokunu bulma islemine denir."
   ]
  },
  {
   "cell_type": "code",
   "execution_count": 1,
   "id": "e95b6f98",
   "metadata": {},
   "outputs": [],
   "source": [
    "from nltk.stem import PorterStemmer # SnowballStemmer\n",
    "from nltk.tokenize import word_tokenize\n",
    "from nltk.corpus import stopwords"
   ]
  },
  {
   "cell_type": "code",
   "execution_count": 2,
   "id": "3f9232ce",
   "metadata": {},
   "outputs": [],
   "source": [
    "ps = PorterStemmer()"
   ]
  },
  {
   "cell_type": "code",
   "execution_count": 3,
   "id": "a492b6bf",
   "metadata": {},
   "outputs": [],
   "source": [
    "text = \"\"\"Lorem Ipsum is simply dummy text of the printing and typesetting industry. Lorem Ipsum has been the industry's standard dummy text ever since the 1500s, when an unknown printer took a galley of type and scrambled it to make a type specimen book. It has survived not only five centuries, but also the leap into electronic typesetting, remaining essentially unchanged. It was popularised in the 1960s with the release of Letraset sheets containing Lorem Ipsum passages, and more recently with desktop publishing software like Aldus PageMaker including versions of Lorem Ipsum.\"\"\""
   ]
  },
  {
   "cell_type": "code",
   "execution_count": 4,
   "id": "41a60613",
   "metadata": {},
   "outputs": [],
   "source": [
    "word_token = word_tokenize(text)"
   ]
  },
  {
   "cell_type": "code",
   "execution_count": 6,
   "id": "f8422662",
   "metadata": {
    "scrolled": true
   },
   "outputs": [
    {
     "data": {
      "text/plain": [
       "['Lorem',\n",
       " 'Ipsum',\n",
       " 'simply',\n",
       " 'dummy',\n",
       " 'text',\n",
       " 'printing',\n",
       " 'typesetting',\n",
       " 'industry',\n",
       " '.',\n",
       " 'Lorem',\n",
       " 'Ipsum',\n",
       " 'industry',\n",
       " \"'s\",\n",
       " 'standard',\n",
       " 'dummy',\n",
       " 'text',\n",
       " 'ever',\n",
       " 'since',\n",
       " '1500s',\n",
       " ',',\n",
       " 'unknown',\n",
       " 'printer',\n",
       " 'took',\n",
       " 'galley',\n",
       " 'type',\n",
       " 'scrambled',\n",
       " 'make',\n",
       " 'type',\n",
       " 'specimen',\n",
       " 'book',\n",
       " '.',\n",
       " 'It',\n",
       " 'survived',\n",
       " 'five',\n",
       " 'centuries',\n",
       " ',',\n",
       " 'also',\n",
       " 'leap',\n",
       " 'electronic',\n",
       " 'typesetting',\n",
       " ',',\n",
       " 'remaining',\n",
       " 'essentially',\n",
       " 'unchanged',\n",
       " '.',\n",
       " 'It',\n",
       " 'popularised',\n",
       " '1960s',\n",
       " 'release',\n",
       " 'Letraset',\n",
       " 'sheets',\n",
       " 'containing',\n",
       " 'Lorem',\n",
       " 'Ipsum',\n",
       " 'passages',\n",
       " ',',\n",
       " 'recently',\n",
       " 'desktop',\n",
       " 'publishing',\n",
       " 'software',\n",
       " 'like',\n",
       " 'Aldus',\n",
       " 'PageMaker',\n",
       " 'including',\n",
       " 'versions',\n",
       " 'Lorem',\n",
       " 'Ipsum',\n",
       " '.']"
      ]
     },
     "execution_count": 6,
     "metadata": {},
     "output_type": "execute_result"
    }
   ],
   "source": [
    "stop_words = stopwords.words('english')\n",
    "words = list(token for token in word_token if token not in stop_words)\n",
    "words"
   ]
  },
  {
   "cell_type": "markdown",
   "id": "1bfe9a4d",
   "metadata": {},
   "source": [
    "### Stemming"
   ]
  },
  {
   "cell_type": "code",
   "execution_count": 7,
   "id": "08cdef71",
   "metadata": {
    "scrolled": true
   },
   "outputs": [
    {
     "data": {
      "text/plain": [
       "['lorem',\n",
       " 'ipsum',\n",
       " 'simpli',\n",
       " 'dummi',\n",
       " 'text',\n",
       " 'print',\n",
       " 'typeset',\n",
       " 'industri',\n",
       " '.',\n",
       " 'lorem',\n",
       " 'ipsum',\n",
       " 'industri',\n",
       " \"'s\",\n",
       " 'standard',\n",
       " 'dummi',\n",
       " 'text',\n",
       " 'ever',\n",
       " 'sinc',\n",
       " '1500',\n",
       " ',',\n",
       " 'unknown',\n",
       " 'printer',\n",
       " 'took',\n",
       " 'galley',\n",
       " 'type',\n",
       " 'scrambl',\n",
       " 'make',\n",
       " 'type',\n",
       " 'specimen',\n",
       " 'book',\n",
       " '.',\n",
       " 'it',\n",
       " 'surviv',\n",
       " 'five',\n",
       " 'centuri',\n",
       " ',',\n",
       " 'also',\n",
       " 'leap',\n",
       " 'electron',\n",
       " 'typeset',\n",
       " ',',\n",
       " 'remain',\n",
       " 'essenti',\n",
       " 'unchang',\n",
       " '.',\n",
       " 'it',\n",
       " 'popularis',\n",
       " '1960',\n",
       " 'releas',\n",
       " 'letraset',\n",
       " 'sheet',\n",
       " 'contain',\n",
       " 'lorem',\n",
       " 'ipsum',\n",
       " 'passag',\n",
       " ',',\n",
       " 'recent',\n",
       " 'desktop',\n",
       " 'publish',\n",
       " 'softwar',\n",
       " 'like',\n",
       " 'aldu',\n",
       " 'pagemak',\n",
       " 'includ',\n",
       " 'version',\n",
       " 'lorem',\n",
       " 'ipsum',\n",
       " '.']"
      ]
     },
     "execution_count": 7,
     "metadata": {},
     "output_type": "execute_result"
    }
   ],
   "source": [
    "list(ps.stem(stem) for stem in words)"
   ]
  },
  {
   "cell_type": "code",
   "execution_count": null,
   "id": "bcfc04f3",
   "metadata": {},
   "outputs": [],
   "source": []
  }
 ],
 "metadata": {
  "kernelspec": {
   "display_name": "Python 3 (ipykernel)",
   "language": "python",
   "name": "python3"
  },
  "language_info": {
   "codemirror_mode": {
    "name": "ipython",
    "version": 3
   },
   "file_extension": ".py",
   "mimetype": "text/x-python",
   "name": "python",
   "nbconvert_exporter": "python",
   "pygments_lexer": "ipython3",
   "version": "3.9.5"
  }
 },
 "nbformat": 4,
 "nbformat_minor": 5
}
