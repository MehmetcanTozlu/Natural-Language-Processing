{
 "cells": [
  {
   "cell_type": "markdown",
   "id": "573a8e75",
   "metadata": {},
   "source": [
    "# Lemmatizing(Kok Bulma)"
   ]
  },
  {
   "cell_type": "code",
   "execution_count": 1,
   "id": "83a8bf6f",
   "metadata": {},
   "outputs": [],
   "source": [
    "from nltk.stem import WordNetLemmatizer"
   ]
  },
  {
   "cell_type": "code",
   "execution_count": 2,
   "id": "bf17d792",
   "metadata": {},
   "outputs": [],
   "source": [
    "lem = WordNetLemmatizer()"
   ]
  },
  {
   "cell_type": "code",
   "execution_count": 3,
   "id": "c97806e3",
   "metadata": {},
   "outputs": [],
   "source": [
    "words = ['drive', 'driving', 'driver', 'drives', 'drove', 'cats', 'children']"
   ]
  },
  {
   "cell_type": "code",
   "execution_count": 4,
   "id": "120d642e",
   "metadata": {
    "scrolled": true
   },
   "outputs": [
    {
     "name": "stdout",
     "output_type": "stream",
     "text": [
      "drive\n",
      "driving\n",
      "driver\n",
      "drive\n",
      "drove\n",
      "cat\n",
      "child\n"
     ]
    }
   ],
   "source": [
    "for lemma in words:\n",
    "    print(lem.lemmatize(lemma))"
   ]
  },
  {
   "cell_type": "markdown",
   "id": "c3c814a7",
   "metadata": {},
   "source": [
    "### Lemmatizing ve Stemming Farklari:\n",
    "\n",
    "#### 1. Stemming yaptigimizda sadece kelimenin sonlarindaki ekleri kaldiriyor.\n",
    "#### 2. Lemmatizing'de kelime haznesi ve kelimenin morfolojik  analizi kullanarak kelimenin sozluk anlamina indirgeniyor."
   ]
  },
  {
   "cell_type": "code",
   "execution_count": null,
   "id": "4e2c4186",
   "metadata": {},
   "outputs": [],
   "source": []
  }
 ],
 "metadata": {
  "kernelspec": {
   "display_name": "Python 3 (ipykernel)",
   "language": "python",
   "name": "python3"
  },
  "language_info": {
   "codemirror_mode": {
    "name": "ipython",
    "version": 3
   },
   "file_extension": ".py",
   "mimetype": "text/x-python",
   "name": "python",
   "nbconvert_exporter": "python",
   "pygments_lexer": "ipython3",
   "version": "3.9.5"
  }
 },
 "nbformat": 4,
 "nbformat_minor": 5
}
