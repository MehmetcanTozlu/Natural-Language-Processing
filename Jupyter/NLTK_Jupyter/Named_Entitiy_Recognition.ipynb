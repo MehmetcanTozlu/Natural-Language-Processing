{
 "cells": [
  {
   "cell_type": "markdown",
   "id": "02ce76d2",
   "metadata": {},
   "source": [
    "# Named_Entitiy_Recognition\n",
    "\n",
    "#### Named_Entitiy_Recognition; bir corpus(metin) icindeki isim, yer, zaman gibi kelimeleri bulmayi hedefliyoruz."
   ]
  },
  {
   "cell_type": "code",
   "execution_count": 2,
   "id": "7b01d7db",
   "metadata": {},
   "outputs": [],
   "source": [
    "import nltk"
   ]
  },
  {
   "cell_type": "code",
   "execution_count": 3,
   "id": "e979e9a7",
   "metadata": {},
   "outputs": [],
   "source": [
    "text = \"\"\"London is the capital and largest city of England and the United Kingdom, with a population of just under 9 million. It stands on the River Thames in south-east England at the head of a 50-mile (80 km) estuary down to the North Sea, and has been a major settlement for two millennia. The City of London, its ancient core and financial centre, was founded by the Romans as Londinium and retains its medieval boundaries.\"\"\""
   ]
  },
  {
   "cell_type": "markdown",
   "id": "86f4b2c0",
   "metadata": {},
   "source": [
    "### Word Tokenized"
   ]
  },
  {
   "cell_type": "code",
   "execution_count": 4,
   "id": "bb00b0d8",
   "metadata": {},
   "outputs": [],
   "source": [
    "tokenized = nltk.word_tokenize(text)"
   ]
  },
  {
   "cell_type": "markdown",
   "id": "c26b4e25",
   "metadata": {},
   "source": [
    "### Part of Speech Tagging"
   ]
  },
  {
   "cell_type": "code",
   "execution_count": 5,
   "id": "1f155885",
   "metadata": {},
   "outputs": [],
   "source": [
    "tagged = nltk.pos_tag(tokenized)"
   ]
  },
  {
   "cell_type": "code",
   "execution_count": 8,
   "id": "286b733f",
   "metadata": {},
   "outputs": [],
   "source": [
    "named_entity = nltk.ne_chunk(tagged)\n",
    "named_entity.draw()"
   ]
  },
  {
   "cell_type": "code",
   "execution_count": null,
   "id": "d7e7088f",
   "metadata": {},
   "outputs": [],
   "source": []
  }
 ],
 "metadata": {
  "kernelspec": {
   "display_name": "Python 3 (ipykernel)",
   "language": "python",
   "name": "python3"
  },
  "language_info": {
   "codemirror_mode": {
    "name": "ipython",
    "version": 3
   },
   "file_extension": ".py",
   "mimetype": "text/x-python",
   "name": "python",
   "nbconvert_exporter": "python",
   "pygments_lexer": "ipython3",
   "version": "3.9.5"
  }
 },
 "nbformat": 4,
 "nbformat_minor": 5
}
