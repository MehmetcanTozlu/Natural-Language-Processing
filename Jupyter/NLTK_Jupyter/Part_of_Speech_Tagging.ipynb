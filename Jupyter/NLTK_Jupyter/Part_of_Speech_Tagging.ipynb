{
 "cells": [
  {
   "cell_type": "markdown",
   "id": "8999df94",
   "metadata": {},
   "source": [
    "# Part of Speech Tagging(Cumlenin Ogelerine Ayirma)"
   ]
  },
  {
   "cell_type": "code",
   "execution_count": 1,
   "id": "3524772e",
   "metadata": {},
   "outputs": [],
   "source": [
    "import nltk"
   ]
  },
  {
   "cell_type": "code",
   "execution_count": 2,
   "id": "9a4c2427",
   "metadata": {},
   "outputs": [],
   "source": [
    "text = \"\"\"Lorem Ipsum is simply dummy text of the printing and typesetting industry. Lorem Ipsum has been the industry's standard dummy text ever since the 1500s, when an unknown printer took a galley of type and scrambled it to make a type specimen book. It has survived not only five centuries, but also the leap into electronic typesetting, remaining essentially unchanged. It was popularised in the 1960s with the release of Letraset sheets containing Lorem Ipsum passages, and more recently with desktop publishing software like Aldus PageMaker including versions of Lorem Ipsum.\"\"\""
   ]
  },
  {
   "cell_type": "code",
   "execution_count": 3,
   "id": "5ed37c0d",
   "metadata": {},
   "outputs": [],
   "source": [
    "tokenized = nltk.word_tokenize(text)"
   ]
  },
  {
   "cell_type": "markdown",
   "id": "8fe26f2a",
   "metadata": {},
   "source": [
    "### Her kelime ve belirteclerinin oldugu bir tuple"
   ]
  },
  {
   "cell_type": "code",
   "execution_count": 4,
   "id": "56727619",
   "metadata": {
    "scrolled": true
   },
   "outputs": [
    {
     "data": {
      "text/plain": [
       "[('Lorem', 'NNP'),\n",
       " ('Ipsum', 'NNP'),\n",
       " ('is', 'VBZ'),\n",
       " ('simply', 'RB'),\n",
       " ('dummy', 'JJ'),\n",
       " ('text', 'NN'),\n",
       " ('of', 'IN'),\n",
       " ('the', 'DT'),\n",
       " ('printing', 'NN'),\n",
       " ('and', 'CC'),\n",
       " ('typesetting', 'NN'),\n",
       " ('industry', 'NN'),\n",
       " ('.', '.'),\n",
       " ('Lorem', 'NNP'),\n",
       " ('Ipsum', 'NNP'),\n",
       " ('has', 'VBZ'),\n",
       " ('been', 'VBN'),\n",
       " ('the', 'DT'),\n",
       " ('industry', 'NN'),\n",
       " (\"'s\", 'POS'),\n",
       " ('standard', 'JJ'),\n",
       " ('dummy', 'NN'),\n",
       " ('text', 'NN'),\n",
       " ('ever', 'RB'),\n",
       " ('since', 'IN'),\n",
       " ('the', 'DT'),\n",
       " ('1500s', 'CD'),\n",
       " (',', ','),\n",
       " ('when', 'WRB'),\n",
       " ('an', 'DT'),\n",
       " ('unknown', 'JJ'),\n",
       " ('printer', 'NN'),\n",
       " ('took', 'VBD'),\n",
       " ('a', 'DT'),\n",
       " ('galley', 'NN'),\n",
       " ('of', 'IN'),\n",
       " ('type', 'NN'),\n",
       " ('and', 'CC'),\n",
       " ('scrambled', 'VBD'),\n",
       " ('it', 'PRP'),\n",
       " ('to', 'TO'),\n",
       " ('make', 'VB'),\n",
       " ('a', 'DT'),\n",
       " ('type', 'NN'),\n",
       " ('specimen', 'NNS'),\n",
       " ('book', 'NN'),\n",
       " ('.', '.'),\n",
       " ('It', 'PRP'),\n",
       " ('has', 'VBZ'),\n",
       " ('survived', 'VBN'),\n",
       " ('not', 'RB'),\n",
       " ('only', 'RB'),\n",
       " ('five', 'CD'),\n",
       " ('centuries', 'NNS'),\n",
       " (',', ','),\n",
       " ('but', 'CC'),\n",
       " ('also', 'RB'),\n",
       " ('the', 'DT'),\n",
       " ('leap', 'NN'),\n",
       " ('into', 'IN'),\n",
       " ('electronic', 'JJ'),\n",
       " ('typesetting', 'NN'),\n",
       " (',', ','),\n",
       " ('remaining', 'VBG'),\n",
       " ('essentially', 'RB'),\n",
       " ('unchanged', 'JJ'),\n",
       " ('.', '.'),\n",
       " ('It', 'PRP'),\n",
       " ('was', 'VBD'),\n",
       " ('popularised', 'VBN'),\n",
       " ('in', 'IN'),\n",
       " ('the', 'DT'),\n",
       " ('1960s', 'NNS'),\n",
       " ('with', 'IN'),\n",
       " ('the', 'DT'),\n",
       " ('release', 'NN'),\n",
       " ('of', 'IN'),\n",
       " ('Letraset', 'NNP'),\n",
       " ('sheets', 'NNS'),\n",
       " ('containing', 'VBG'),\n",
       " ('Lorem', 'NNP'),\n",
       " ('Ipsum', 'NNP'),\n",
       " ('passages', 'NNS'),\n",
       " (',', ','),\n",
       " ('and', 'CC'),\n",
       " ('more', 'RBR'),\n",
       " ('recently', 'RB'),\n",
       " ('with', 'IN'),\n",
       " ('desktop', 'NN'),\n",
       " ('publishing', 'NN'),\n",
       " ('software', 'NN'),\n",
       " ('like', 'IN'),\n",
       " ('Aldus', 'NNP'),\n",
       " ('PageMaker', 'NNP'),\n",
       " ('including', 'VBG'),\n",
       " ('versions', 'NNS'),\n",
       " ('of', 'IN'),\n",
       " ('Lorem', 'NNP'),\n",
       " ('Ipsum', 'NNP'),\n",
       " ('.', '.')]"
      ]
     },
     "execution_count": 4,
     "metadata": {},
     "output_type": "execute_result"
    }
   ],
   "source": [
    "nltk.pos_tag(tokenized)"
   ]
  },
  {
   "cell_type": "code",
   "execution_count": null,
   "id": "f5e7ebcb",
   "metadata": {},
   "outputs": [],
   "source": []
  }
 ],
 "metadata": {
  "kernelspec": {
   "display_name": "Python 3 (ipykernel)",
   "language": "python",
   "name": "python3"
  },
  "language_info": {
   "codemirror_mode": {
    "name": "ipython",
    "version": 3
   },
   "file_extension": ".py",
   "mimetype": "text/x-python",
   "name": "python",
   "nbconvert_exporter": "python",
   "pygments_lexer": "ipython3",
   "version": "3.9.5"
  }
 },
 "nbformat": 4,
 "nbformat_minor": 5
}
