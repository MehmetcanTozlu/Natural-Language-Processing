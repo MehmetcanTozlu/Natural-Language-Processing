{
 "cells": [
  {
   "cell_type": "markdown",
   "id": "072df37f",
   "metadata": {},
   "source": [
    "# Tokenizer\n",
    "\n",
    "## Butun bir metni tokenize edelim.\n",
    "\n",
    "#### Tokenizer; 2 turlu yapabiliriz. Kelime veya cumle olarak. Butun bir metni kelimelerine ayirma veya cumlelerine ayirma islemine tokenizer diyoruz."
   ]
  },
  {
   "cell_type": "code",
   "execution_count": 2,
   "id": "b3f6f82c",
   "metadata": {},
   "outputs": [],
   "source": [
    "import nltk\n",
    "from nltk.tokenize import word_tokenize, sent_tokenize # kelime, cumle"
   ]
  },
  {
   "cell_type": "code",
   "execution_count": 3,
   "id": "cde775c9",
   "metadata": {},
   "outputs": [],
   "source": [
    "text = 'Lorem Ipsum, kısaca Lipsum, masaüstü yayıncılık ve basın yayın sektöründe kullanılan taklit yazı bloğu olarak tanımlanır. Lipsum, oluşturulacak şablon ve taslaklarda içerik yerine geçerek yazı bloğunu doldurmak için kullanılır.'"
   ]
  },
  {
   "cell_type": "markdown",
   "id": "a80aa5c2",
   "metadata": {},
   "source": [
    "## Word Tokenize(kelime)"
   ]
  },
  {
   "cell_type": "code",
   "execution_count": 4,
   "id": "7b16bc09",
   "metadata": {
    "scrolled": true
   },
   "outputs": [
    {
     "data": {
      "text/plain": [
       "['Lorem',\n",
       " 'Ipsum',\n",
       " ',',\n",
       " 'kısaca',\n",
       " 'Lipsum',\n",
       " ',',\n",
       " 'masaüstü',\n",
       " 'yayıncılık',\n",
       " 've',\n",
       " 'basın',\n",
       " 'yayın',\n",
       " 'sektöründe',\n",
       " 'kullanılan',\n",
       " 'taklit',\n",
       " 'yazı',\n",
       " 'bloğu',\n",
       " 'olarak',\n",
       " 'tanımlanır',\n",
       " '.',\n",
       " 'Lipsum',\n",
       " ',',\n",
       " 'oluşturulacak',\n",
       " 'şablon',\n",
       " 've',\n",
       " 'taslaklarda',\n",
       " 'içerik',\n",
       " 'yerine',\n",
       " 'geçerek',\n",
       " 'yazı',\n",
       " 'bloğunu',\n",
       " 'doldurmak',\n",
       " 'için',\n",
       " 'kullanılır',\n",
       " '.']"
      ]
     },
     "execution_count": 4,
     "metadata": {},
     "output_type": "execute_result"
    }
   ],
   "source": [
    "word_token = word_tokenize(text)\n",
    "word_token"
   ]
  },
  {
   "cell_type": "markdown",
   "id": "ddc72973",
   "metadata": {},
   "source": [
    "## Sent Tokenize(cumle)"
   ]
  },
  {
   "cell_type": "code",
   "execution_count": 5,
   "id": "21d7492d",
   "metadata": {},
   "outputs": [
    {
     "data": {
      "text/plain": [
       "['Lorem Ipsum, kısaca Lipsum, masaüstü yayıncılık ve basın yayın sektöründe kullanılan taklit yazı bloğu olarak tanımlanır.',\n",
       " 'Lipsum, oluşturulacak şablon ve taslaklarda içerik yerine geçerek yazı bloğunu doldurmak için kullanılır.']"
      ]
     },
     "execution_count": 5,
     "metadata": {},
     "output_type": "execute_result"
    }
   ],
   "source": [
    "sentence_token = sent_tokenize(text)\n",
    "sentence_token"
   ]
  },
  {
   "cell_type": "code",
   "execution_count": 6,
   "id": "e522ebf2",
   "metadata": {},
   "outputs": [
    {
     "name": "stdout",
     "output_type": "stream",
     "text": [
      "Lorem\n",
      "Ipsum\n",
      ",\n",
      "kısaca\n",
      "Lipsum\n",
      ",\n",
      "masaüstü\n",
      "yayıncılık\n",
      "ve\n",
      "basın\n",
      "yayın\n",
      "sektöründe\n",
      "kullanılan\n",
      "taklit\n",
      "yazı\n",
      "bloğu\n",
      "olarak\n",
      "tanımlanır\n",
      ".\n",
      "Lipsum\n",
      ",\n",
      "oluşturulacak\n",
      "şablon\n",
      "ve\n",
      "taslaklarda\n",
      "içerik\n",
      "yerine\n",
      "geçerek\n",
      "yazı\n",
      "bloğunu\n",
      "doldurmak\n",
      "için\n",
      "kullanılır\n",
      ".\n"
     ]
    }
   ],
   "source": [
    "for i in word_token:\n",
    "    print(i)"
   ]
  },
  {
   "cell_type": "code",
   "execution_count": null,
   "id": "217e2b5f",
   "metadata": {},
   "outputs": [],
   "source": []
  }
 ],
 "metadata": {
  "kernelspec": {
   "display_name": "Python 3 (ipykernel)",
   "language": "python",
   "name": "python3"
  },
  "language_info": {
   "codemirror_mode": {
    "name": "ipython",
    "version": 3
   },
   "file_extension": ".py",
   "mimetype": "text/x-python",
   "name": "python",
   "nbconvert_exporter": "python",
   "pygments_lexer": "ipython3",
   "version": "3.9.5"
  }
 },
 "nbformat": 4,
 "nbformat_minor": 5
}
